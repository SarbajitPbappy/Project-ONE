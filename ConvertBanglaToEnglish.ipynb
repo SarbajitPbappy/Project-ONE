{
 "cells": [
  {
   "cell_type": "markdown",
   "metadata": {},
   "source": [
    "## Installing Google Translator"
   ]
  },
  {
   "cell_type": "code",
   "execution_count": 1,
   "metadata": {},
   "outputs": [
    {
     "name": "stdout",
     "output_type": "stream",
     "text": [
      "Collecting googletrans==4.0.0-rc1\n",
      "  Downloading googletrans-4.0.0rc1.tar.gz (20 kB)\n",
      "  Installing build dependencies: started\n",
      "  Installing build dependencies: finished with status 'done'\n",
      "  Getting requirements to build wheel: started\n",
      "  Getting requirements to build wheel: finished with status 'done'\n",
      "  Preparing metadata (pyproject.toml): started\n",
      "  Preparing metadata (pyproject.toml): finished with status 'done'\n",
      "Collecting httpx==0.13.3 (from googletrans==4.0.0-rc1)\n",
      "  Obtaining dependency information for httpx==0.13.3 from https://files.pythonhosted.org/packages/54/b4/698b284c6aed4d7c2b4fe3ba5df1fcf6093612423797e76fbb24890dd22f/httpx-0.13.3-py3-none-any.whl.metadata\n",
      "  Downloading httpx-0.13.3-py3-none-any.whl.metadata (25 kB)\n",
      "Collecting certifi (from httpx==0.13.3->googletrans==4.0.0-rc1)\n",
      "  Obtaining dependency information for certifi from https://files.pythonhosted.org/packages/ba/06/a07f096c664aeb9f01624f858c3add0a4e913d6c96257acb4fce61e7de14/certifi-2024.2.2-py3-none-any.whl.metadata\n",
      "  Using cached certifi-2024.2.2-py3-none-any.whl.metadata (2.2 kB)\n",
      "Collecting hstspreload (from httpx==0.13.3->googletrans==4.0.0-rc1)\n",
      "  Obtaining dependency information for hstspreload from https://files.pythonhosted.org/packages/25/2a/e9ca0cdf8bd33d61d8d237b19e62d5c2f2666e482ae3fd45e0a80b8dcfd0/hstspreload-2024.3.1-py3-none-any.whl.metadata\n",
      "  Downloading hstspreload-2024.3.1-py3-none-any.whl.metadata (2.1 kB)\n",
      "Collecting sniffio (from httpx==0.13.3->googletrans==4.0.0-rc1)\n",
      "  Obtaining dependency information for sniffio from https://files.pythonhosted.org/packages/e9/44/75a9c9421471a6c4805dbf2356f7c181a29c1879239abab1ea2cc8f38b40/sniffio-1.3.1-py3-none-any.whl.metadata\n",
      "  Downloading sniffio-1.3.1-py3-none-any.whl.metadata (3.9 kB)\n",
      "Collecting chardet==3.* (from httpx==0.13.3->googletrans==4.0.0-rc1)\n",
      "  Obtaining dependency information for chardet==3.* from https://files.pythonhosted.org/packages/bc/a9/01ffebfb562e4274b6487b4bb1ddec7ca55ec7510b22e4c51f14098443b8/chardet-3.0.4-py2.py3-none-any.whl.metadata\n",
      "  Downloading chardet-3.0.4-py2.py3-none-any.whl.metadata (3.2 kB)\n",
      "Collecting idna==2.* (from httpx==0.13.3->googletrans==4.0.0-rc1)\n",
      "  Obtaining dependency information for idna==2.* from https://files.pythonhosted.org/packages/a2/38/928ddce2273eaa564f6f50de919327bf3a00f091b5baba8dfa9460f3a8a8/idna-2.10-py2.py3-none-any.whl.metadata\n",
      "  Downloading idna-2.10-py2.py3-none-any.whl.metadata (9.1 kB)\n",
      "Collecting rfc3986<2,>=1.3 (from httpx==0.13.3->googletrans==4.0.0-rc1)\n",
      "  Obtaining dependency information for rfc3986<2,>=1.3 from https://files.pythonhosted.org/packages/c4/e5/63ca2c4edf4e00657584608bee1001302bbf8c5f569340b78304f2f446cb/rfc3986-1.5.0-py2.py3-none-any.whl.metadata\n",
      "  Downloading rfc3986-1.5.0-py2.py3-none-any.whl.metadata (6.5 kB)\n",
      "Collecting httpcore==0.9.* (from httpx==0.13.3->googletrans==4.0.0-rc1)\n",
      "  Obtaining dependency information for httpcore==0.9.* from https://files.pythonhosted.org/packages/dd/d5/e4ff9318693ac6101a2095e580908b591838c6f33df8d3ee8dd953ba96a8/httpcore-0.9.1-py3-none-any.whl.metadata\n",
      "  Downloading httpcore-0.9.1-py3-none-any.whl.metadata (4.6 kB)\n",
      "Collecting h11<0.10,>=0.8 (from httpcore==0.9.*->httpx==0.13.3->googletrans==4.0.0-rc1)\n",
      "  Obtaining dependency information for h11<0.10,>=0.8 from https://files.pythonhosted.org/packages/5a/fd/3dad730b0f95e78aeeb742f96fa7bbecbdd56a58e405d3da440d5bfb90c6/h11-0.9.0-py2.py3-none-any.whl.metadata\n",
      "  Downloading h11-0.9.0-py2.py3-none-any.whl.metadata (8.1 kB)\n",
      "Collecting h2==3.* (from httpcore==0.9.*->httpx==0.13.3->googletrans==4.0.0-rc1)\n",
      "  Obtaining dependency information for h2==3.* from https://files.pythonhosted.org/packages/25/de/da019bcc539eeab02f6d45836f23858ac467f584bfec7a526ef200242afe/h2-3.2.0-py2.py3-none-any.whl.metadata\n",
      "  Downloading h2-3.2.0-py2.py3-none-any.whl.metadata (32 kB)\n",
      "Collecting hyperframe<6,>=5.2.0 (from h2==3.*->httpcore==0.9.*->httpx==0.13.3->googletrans==4.0.0-rc1)\n",
      "  Obtaining dependency information for hyperframe<6,>=5.2.0 from https://files.pythonhosted.org/packages/19/0c/bf88182bcb5dce3094e2f3e4fe20db28a9928cb7bd5b08024030e4b140db/hyperframe-5.2.0-py2.py3-none-any.whl.metadata\n",
      "  Downloading hyperframe-5.2.0-py2.py3-none-any.whl.metadata (7.2 kB)\n",
      "Collecting hpack<4,>=3.0 (from h2==3.*->httpcore==0.9.*->httpx==0.13.3->googletrans==4.0.0-rc1)\n",
      "  Obtaining dependency information for hpack<4,>=3.0 from https://files.pythonhosted.org/packages/8a/cc/e53517f4a1e13f74776ca93271caef378dadec14d71c61c949d759d3db69/hpack-3.0.0-py2.py3-none-any.whl.metadata\n",
      "  Downloading hpack-3.0.0-py2.py3-none-any.whl.metadata (7.0 kB)\n",
      "Downloading httpx-0.13.3-py3-none-any.whl (55 kB)\n",
      "   ---------------------------------------- 0.0/55.1 kB ? eta -:--:--\n",
      "   ------- -------------------------------- 10.2/55.1 kB ? eta -:--:--\n",
      "   ---------------------- ----------------- 30.7/55.1 kB 660.6 kB/s eta 0:00:01\n",
      "   ---------------------------------------- 55.1/55.1 kB 575.1 kB/s eta 0:00:00\n",
      "Using cached chardet-3.0.4-py2.py3-none-any.whl (133 kB)\n",
      "Downloading httpcore-0.9.1-py3-none-any.whl (42 kB)\n",
      "   ---------------------------------------- 0.0/42.6 kB ? eta -:--:--\n",
      "   --------- ------------------------------ 10.2/42.6 kB ? eta -:--:--\n",
      "   ---------------------------- ----------- 30.7/42.6 kB 435.7 kB/s eta 0:00:01\n",
      "   ---------------------------------------- 42.6/42.6 kB 415.4 kB/s eta 0:00:00\n",
      "Using cached idna-2.10-py2.py3-none-any.whl (58 kB)\n",
      "Downloading sniffio-1.3.1-py3-none-any.whl (10 kB)\n",
      "Downloading h2-3.2.0-py2.py3-none-any.whl (65 kB)\n",
      "   ---------------------------------------- 0.0/65.0 kB ? eta -:--:--\n",
      "   ------------------ --------------------- 30.7/65.0 kB 640.0 kB/s eta 0:00:01\n",
      "   ------------------------- -------------- 41.0/65.0 kB 487.6 kB/s eta 0:00:01\n",
      "   ---------------------------------------- 65.0/65.0 kB 498.2 kB/s eta 0:00:00\n",
      "Downloading rfc3986-1.5.0-py2.py3-none-any.whl (31 kB)\n",
      "Downloading certifi-2024.2.2-py3-none-any.whl (163 kB)\n",
      "   ---------------------------------------- 0.0/163.8 kB ? eta -:--:--\n",
      "   --------- ----------------------------- 41.0/163.8 kB 991.0 kB/s eta 0:00:01\n",
      "   --------------- ------------------------ 61.4/163.8 kB 1.1 MB/s eta 0:00:01\n",
      "   --------------------- ----------------- 92.2/163.8 kB 751.6 kB/s eta 0:00:01\n",
      "   ---------------------------- --------- 122.9/163.8 kB 722.1 kB/s eta 0:00:01\n",
      "   -------------------------------------- 163.8/163.8 kB 756.3 kB/s eta 0:00:00\n",
      "Downloading hstspreload-2024.3.1-py3-none-any.whl (1.1 MB)\n",
      "   ---------------------------------------- 0.0/1.1 MB ? eta -:--:--\n",
      "   - -------------------------------------- 0.0/1.1 MB 640.0 kB/s eta 0:00:02\n",
      "   -- ------------------------------------- 0.1/1.1 MB 812.7 kB/s eta 0:00:02\n",
      "   --- ------------------------------------ 0.1/1.1 MB 744.7 kB/s eta 0:00:02\n",
      "   ---- ----------------------------------- 0.1/1.1 MB 717.5 kB/s eta 0:00:02\n",
      "   ----- ---------------------------------- 0.2/1.1 MB 762.6 kB/s eta 0:00:02\n",
      "   ------ --------------------------------- 0.2/1.1 MB 784.3 kB/s eta 0:00:02\n",
      "   -------- ------------------------------- 0.2/1.1 MB 762.6 kB/s eta 0:00:02\n",
      "   --------- ------------------------------ 0.3/1.1 MB 747.0 kB/s eta 0:00:02\n",
      "   ---------- ----------------------------- 0.3/1.1 MB 737.3 kB/s eta 0:00:02\n",
      "   ------------ --------------------------- 0.3/1.1 MB 776.5 kB/s eta 0:00:02\n",
      "   ------------- -------------------------- 0.4/1.1 MB 789.4 kB/s eta 0:00:01\n",
      "   --------------- ------------------------ 0.4/1.1 MB 789.2 kB/s eta 0:00:01\n",
      "   ---------------- ----------------------- 0.5/1.1 MB 778.2 kB/s eta 0:00:01\n",
      "   ------------------ --------------------- 0.5/1.1 MB 802.8 kB/s eta 0:00:01\n",
      "   ------------------- -------------------- 0.5/1.1 MB 792.4 kB/s eta 0:00:01\n",
      "   --------------------- ------------------ 0.6/1.1 MB 811.8 kB/s eta 0:00:01\n",
      "   ---------------------- ----------------- 0.6/1.1 MB 828.8 kB/s eta 0:00:01\n",
      "   ------------------------ --------------- 0.7/1.1 MB 800.8 kB/s eta 0:00:01\n",
      "   -------------------------- ------------- 0.7/1.1 MB 830.9 kB/s eta 0:00:01\n",
      "   ---------------------------- ----------- 0.8/1.1 MB 844.1 kB/s eta 0:00:01\n",
      "   ---------------------------- ----------- 0.8/1.1 MB 840.6 kB/s eta 0:00:01\n",
      "   ------------------------------- -------- 0.9/1.1 MB 846.6 kB/s eta 0:00:01\n",
      "   -------------------------------- ------- 0.9/1.1 MB 857.3 kB/s eta 0:00:01\n",
      "   ---------------------------------- ----- 1.0/1.1 MB 870.5 kB/s eta 0:00:01\n",
      "   ----------------------------------- ---- 1.0/1.1 MB 870.5 kB/s eta 0:00:01\n",
      "   ------------------------------------- -- 1.1/1.1 MB 867.5 kB/s eta 0:00:01\n",
      "   ---------------------------------------  1.1/1.1 MB 887.2 kB/s eta 0:00:01\n",
      "   ---------------------------------------- 1.1/1.1 MB 878.8 kB/s eta 0:00:00\n",
      "Downloading h11-0.9.0-py2.py3-none-any.whl (53 kB)\n",
      "   ---------------------------------------- 0.0/53.6 kB ? eta -:--:--\n",
      "   ---------------------------------------- 53.6/53.6 kB 2.7 MB/s eta 0:00:00\n",
      "Downloading hpack-3.0.0-py2.py3-none-any.whl (38 kB)\n",
      "Downloading hyperframe-5.2.0-py2.py3-none-any.whl (12 kB)\n",
      "Building wheels for collected packages: googletrans\n",
      "  Building wheel for googletrans (pyproject.toml): started\n",
      "  Building wheel for googletrans (pyproject.toml): finished with status 'done'\n",
      "  Created wheel for googletrans: filename=googletrans-4.0.0rc1-py3-none-any.whl size=17458 sha256=4460c8d412aa719227f73fdfb8ace982d0c3f5ef59031cbe57e447ee61fe9397\n",
      "  Stored in directory: c:\\users\\sarba\\appdata\\local\\pip\\cache\\wheels\\95\\0f\\04\\b17a72024b56a60e499ce1a6313d283ed5ba332407155bee03\n",
      "Successfully built googletrans\n",
      "Installing collected packages: rfc3986, hyperframe, hpack, h11, chardet, sniffio, idna, hstspreload, h2, certifi, httpcore, httpx, googletrans\n",
      "Successfully installed certifi-2024.2.2 chardet-3.0.4 googletrans-4.0.0rc1 h11-0.9.0 h2-3.2.0 hpack-3.0.0 hstspreload-2024.3.1 httpcore-0.9.1 httpx-0.13.3 hyperframe-5.2.0 idna-2.10 rfc3986-1.5.0 sniffio-1.3.1\n",
      "Note: you may need to restart the kernel to use updated packages.\n"
     ]
    },
    {
     "name": "stderr",
     "output_type": "stream",
     "text": [
      "  WARNING: The script chardetect.exe is installed in 'c:\\Users\\sarba\\AppData\\Local\\Programs\\Python\\Python312\\Scripts' which is not on PATH.\n",
      "  Consider adding this directory to PATH or, if you prefer to suppress this warning, use --no-warn-script-location.\n",
      "\n",
      "[notice] A new release of pip is available: 23.2.1 -> 24.0\n",
      "[notice] To update, run: python.exe -m pip install --upgrade pip\n"
     ]
    }
   ],
   "source": [
    "%pip install googletrans==4.0.0-rc1"
   ]
  },
  {
   "cell_type": "markdown",
   "metadata": {},
   "source": [
    "## Translate Native Column Names To English"
   ]
  },
  {
   "cell_type": "code",
   "execution_count": 3,
   "metadata": {},
   "outputs": [
    {
     "name": "stderr",
     "output_type": "stream",
     "text": [
      "<>:5: SyntaxWarning: invalid escape sequence '\\B'\n",
      "<>:24: SyntaxWarning: invalid escape sequence '\\B'\n",
      "<>:5: SyntaxWarning: invalid escape sequence '\\B'\n",
      "<>:24: SyntaxWarning: invalid escape sequence '\\B'\n",
      "C:\\Users\\sarba\\AppData\\Local\\Temp\\ipykernel_2248\\2554249270.py:5: SyntaxWarning: invalid escape sequence '\\B'\n",
      "  df = pd.read_csv('D:\\Bangladesh Population Analysis\\city_population.csv')\n",
      "C:\\Users\\sarba\\AppData\\Local\\Temp\\ipykernel_2248\\2554249270.py:24: SyntaxWarning: invalid escape sequence '\\B'\n",
      "  df.to_csv('D:\\Bangladesh Population Analysis\\city_population_translated.csv', index=False)\n"
     ]
    },
    {
     "name": "stdout",
     "output_type": "stream",
     "text": [
      "Translation complete and saved to 'translated_file.csv'.\n"
     ]
    }
   ],
   "source": [
    "import pandas as pd\n",
    "from googletrans import Translator, LANGUAGES\n",
    "\n",
    "# Load CSV file\n",
    "df = pd.read_csv('D:\\Bangladesh Population Analysis\\city_population.csv')\n",
    "\n",
    "# Initialize the Google Translate API translator\n",
    "translator = Translator()\n",
    "\n",
    "# Function to translate text using Google Translate\n",
    "def translate_text(text, dest_language=\"en\"):\n",
    "    try:\n",
    "        # Translate the text to English\n",
    "        translated = translator.translate(text, dest=dest_language)\n",
    "        return translated.text\n",
    "    except Exception as e:\n",
    "        print(f\"Error while translating: {e}\")\n",
    "        return text\n",
    "\n",
    "# Apply the translation function to the \"Native\" column\n",
    "df['Native'] = df['Native'].apply(lambda x: translate_text(x, 'en'))\n",
    "\n",
    "# Save the translated DataFrame to a new CSV file\n",
    "df.to_csv('D:\\Bangladesh Population Analysis\\city_population_translated.csv', index=False)\n",
    "\n",
    "print(\"Translation complete and saved to 'translated_file.csv'.\")\n"
   ]
  },
  {
   "cell_type": "code",
   "execution_count": null,
   "metadata": {},
   "outputs": [],
   "source": []
  }
 ],
 "metadata": {
  "kernelspec": {
   "display_name": "Python 3",
   "language": "python",
   "name": "python3"
  },
  "language_info": {
   "codemirror_mode": {
    "name": "ipython",
    "version": 3
   },
   "file_extension": ".py",
   "mimetype": "text/x-python",
   "name": "python",
   "nbconvert_exporter": "python",
   "pygments_lexer": "ipython3",
   "version": "3.12.0"
  }
 },
 "nbformat": 4,
 "nbformat_minor": 2
}
